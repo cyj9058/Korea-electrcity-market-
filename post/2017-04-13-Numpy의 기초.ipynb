{
 "cells": [
  {
   "cell_type": "markdown",
   "metadata": {},
   "source": [
    "# Numpy의 기초 \n",
    "\n",
    "Numpy는 ndarray라는 배열을 가지고 데이터를 표현한다. ndarray생성시, ndim,shape,dtype,strides등의 인스턴스를 갖는다. "
   ]
  },
  {
   "cell_type": "code",
   "execution_count": 10,
   "metadata": {},
   "outputs": [
    {
     "name": "stdout",
     "output_type": "stream",
     "text": [
      "2\n",
      "(2, 3)\n",
      "int64\n",
      "(8,) (24, 8)\n"
     ]
    },
    {
     "data": {
      "text/plain": [
       "(None, None)"
      ]
     },
     "execution_count": 10,
     "metadata": {},
     "output_type": "execute_result"
    }
   ],
   "source": [
    "import numpy as np \n",
    "a=np.array([1,2,3])\n",
    "b=np.array([[1,2,3],[4,5,6]])\n",
    "print(b.ndim);print(b.shape);print(b.dtype),print(a.strides,b.strides)"
   ]
  },
  {
   "attachments": {},
   "cell_type": "markdown",
   "metadata": {},
   "source": [
    "## 생성함수 \n",
    "Numpy의 주요 생성함수는 아래와 같다. \n",
    "* array: 입력데이터를 ndarray형태로 변환 \n",
    "* arange: 연속적인 값을 입력  \n",
    "* linspace: 연속적인 값을 입력 \n",
    "* identity: 단위행렬 생성 "
   ]
  },
  {
   "cell_type": "code",
   "execution_count": 15,
   "metadata": {},
   "outputs": [
    {
     "data": {
      "text/plain": [
       "(array([1, 2, 3, 4, 5, 6, 7, 8, 9]),\n",
       " array([  1.        ,   1.11392405,   1.2278481 ,   1.34177215,\n",
       "          1.4556962 ,   1.56962025,   1.6835443 ,   1.79746835,\n",
       "          1.91139241,   2.02531646,   2.13924051,   2.25316456,\n",
       "          2.36708861,   2.48101266,   2.59493671,   2.70886076,\n",
       "          2.82278481,   2.93670886,   3.05063291,   3.16455696,\n",
       "          3.27848101,   3.39240506,   3.50632911,   3.62025316,\n",
       "          3.73417722,   3.84810127,   3.96202532,   4.07594937,\n",
       "          4.18987342,   4.30379747,   4.41772152,   4.53164557,\n",
       "          4.64556962,   4.75949367,   4.87341772,   4.98734177,\n",
       "          5.10126582,   5.21518987,   5.32911392,   5.44303797,\n",
       "          5.55696203,   5.67088608,   5.78481013,   5.89873418,\n",
       "          6.01265823,   6.12658228,   6.24050633,   6.35443038,\n",
       "          6.46835443,   6.58227848,   6.69620253,   6.81012658,\n",
       "          6.92405063,   7.03797468,   7.15189873,   7.26582278,\n",
       "          7.37974684,   7.49367089,   7.60759494,   7.72151899,\n",
       "          7.83544304,   7.94936709,   8.06329114,   8.17721519,\n",
       "          8.29113924,   8.40506329,   8.51898734,   8.63291139,\n",
       "          8.74683544,   8.86075949,   8.97468354,   9.08860759,\n",
       "          9.20253165,   9.3164557 ,   9.43037975,   9.5443038 ,\n",
       "          9.65822785,   9.7721519 ,   9.88607595,  10.        ]),\n",
       " array([[ 1.,  0.,  0.],\n",
       "        [ 0.,  1.,  0.],\n",
       "        [ 0.,  0.,  1.]]))"
      ]
     },
     "execution_count": 15,
     "metadata": {},
     "output_type": "execute_result"
    }
   ],
   "source": [
    "np.arange(1,10),np.linspace(1,10,num=80),np.identity(3)"
   ]
  }
 ],
 "metadata": {
  "hide_input": false,
  "kernelspec": {
   "display_name": "Python 3",
   "language": "python",
   "name": "python3"
  },
  "language_info": {
   "codemirror_mode": {
    "name": "ipython",
    "version": 3
   },
   "file_extension": ".py",
   "mimetype": "text/x-python",
   "name": "python",
   "nbconvert_exporter": "python",
   "pygments_lexer": "ipython3",
   "version": "3.6.0"
  }
 },
 "nbformat": 4,
 "nbformat_minor": 2
}
